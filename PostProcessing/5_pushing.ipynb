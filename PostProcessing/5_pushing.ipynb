{
 "cells": [
  {
   "cell_type": "code",
   "id": "initial_id",
   "metadata": {
    "collapsed": true,
    "ExecuteTime": {
     "end_time": "2024-08-27T21:00:48.944621Z",
     "start_time": "2024-08-27T21:00:48.702285Z"
    }
   },
   "source": [
    "import os\n",
    "import pandas as pd"
   ],
   "outputs": [],
   "execution_count": 1
  },
  {
   "cell_type": "code",
   "id": "d402875b67d961d6",
   "metadata": {
    "ExecuteTime": {
     "end_time": "2024-08-27T21:01:31.218846Z",
     "start_time": "2024-08-27T21:01:31.214926Z"
    }
   },
   "source": [
    "def process_csv(folder_path):\n",
    "    input_csv_file_path = os.path.join(folder_path, 'processed_step_7.csv') \n",
    "    output_csv_file_path = os.path.join(folder_path, 'processed_step_10.csv')\n",
    "\n",
    "    df = pd.read_csv(input_csv_file_path)\n",
    "\n",
    "    df['direction'] = -1\n",
    "\n",
    "    # Find the first and last valid ball_x values\n",
    "    ball_x_values = df['origin_x'].dropna()\n",
    "    first_ball_x = ball_x_values.iloc[0]\n",
    "    last_ball_x = ball_x_values.iloc[-1]\n",
    "    \n",
    "    for i in range(0, len(df)):\n",
    "        # Estimate the direction\n",
    "        if last_ball_x > first_ball_x:\n",
    "            df.loc[i, 'direction'] = 1  # Moving in a positive direction\n",
    "        elif last_ball_x < first_ball_x:\n",
    "            df.loc[i, 'direction'] = -1  # Moving in a negative direction\n",
    "    \n",
    "    df.to_csv(output_csv_file_path, index=False)"
   ],
   "outputs": [],
   "execution_count": 6
  },
  {
   "cell_type": "code",
   "id": "29338c0ecc82e669",
   "metadata": {
    "ExecuteTime": {
     "end_time": "2024-08-27T21:01:31.772754Z",
     "start_time": "2024-08-27T21:01:31.559462Z"
    }
   },
   "source": [
    "base_folder = r'.\\NaoPushingData'\n",
    "for folder in os.listdir(base_folder):\n",
    "    folder_path = os.path.join(base_folder, folder)\n",
    "    if os.path.isdir(folder_path) and 'processed_step_7.csv' in os.listdir(folder_path):\n",
    "        process_csv(folder_path)"
   ],
   "outputs": [],
   "execution_count": 7
  },
  {
   "cell_type": "code",
   "execution_count": 36,
   "id": "11eb48d03db1fefb",
   "metadata": {
    "ExecuteTime": {
     "end_time": "2024-06-10T13:49:07.616528Z",
     "start_time": "2024-06-10T13:49:07.610918Z"
    }
   },
   "outputs": [],
   "source": []
  }
 ],
 "metadata": {
  "kernelspec": {
   "display_name": "Python 3",
   "language": "python",
   "name": "python3"
  },
  "language_info": {
   "codemirror_mode": {
    "name": "ipython",
    "version": 3
   },
   "file_extension": ".py",
   "mimetype": "text/x-python",
   "name": "python",
   "nbconvert_exporter": "python",
   "pygments_lexer": "ipython3",
   "version": "3.12.2"
  }
 },
 "nbformat": 4,
 "nbformat_minor": 5
}
