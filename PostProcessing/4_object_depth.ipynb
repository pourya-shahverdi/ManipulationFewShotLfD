{
 "cells": [
  {
   "cell_type": "code",
   "id": "initial_id",
   "metadata": {
    "ExecuteTime": {
     "end_time": "2024-08-28T20:29:38.821726Z",
     "start_time": "2024-08-28T20:29:38.345305Z"
    }
   },
   "source": [
    "import os\n",
    "import numpy as np\n",
    "import pandas as pd\n",
    "import matplotlib.pyplot as plt\n",
    "from IPython.display import display, clear_output"
   ],
   "outputs": [],
   "execution_count": 1
  },
  {
   "cell_type": "code",
   "id": "6a9c79a31e5bd89b",
   "metadata": {
    "collapsed": false,
    "jupyter": {
     "outputs_hidden": false
    },
    "ExecuteTime": {
     "end_time": "2024-08-28T20:29:38.827Z",
     "start_time": "2024-08-28T20:29:38.822725Z"
    }
   },
   "source": [
    "def process_csv(folder_path):\n",
    "    input_csv_file_path = os.path.join(folder_path, 'processed_step_3.csv')\n",
    "    output_csv_file_path = os.path.join(folder_path, 'processed_step_4.csv')\n",
    "\n",
    "    df = pd.read_csv(input_csv_file_path)\n",
    "\n",
    "    origins = df[['origin_x', 'origin_y']].values\n",
    "    goals = df[['goal_x', 'goal_y']].values\n",
    "\n",
    "    origin_z = []\n",
    "    goal_z = []\n",
    "\n",
    "    for i in range(len(df)):\n",
    "        depth_path = os.path.join(folder_path, 'processed_depth', f'depth_data_{i + 1}.bin')\n",
    "        if not os.path.exists(depth_path):\n",
    "            origin_z.append(None)\n",
    "            goal_z.append(None)\n",
    "            continue\n",
    "        \n",
    "        origin = origins[i]\n",
    "        goal = goals[i]\n",
    "        \n",
    "        with open(depth_path, 'rb') as f:\n",
    "            depth_data = f.read()\n",
    "            depth_array = np.frombuffer(depth_data, dtype=np.uint16)\n",
    "            width = 640\n",
    "            height = 480\n",
    "            depth_frame = depth_array.reshape((height, width)) / 10000\n",
    "\n",
    "            padding_x = -10\n",
    "            padding_y = -10\n",
    "            \n",
    "            # clear_output(wait=True)\n",
    "            # plt.figure(figsize=(5, 5))\n",
    "            # plt.imshow(depth_frame, cmap='viridis')\n",
    "            # if not np.isnan(origin).any():\n",
    "            #     plt.scatter(origin[0] + padding_x, origin[1] + padding_y, c='red', marker='x', label='Origin')\n",
    "            # if not np.isnan(goal).any():\n",
    "            #     plt.scatter(goal[0] + padding_x, goal[1] + padding_y, c='blue', marker='x', label='Goal')\n",
    "            # plt.title(depth_path)\n",
    "            # display(plt.gcf())\n",
    "        \n",
    "            origin_depth = depth_frame[int(origin[1] + padding_y), int(origin[0] + padding_x)] if not np.isnan(origin).any() else None\n",
    "            goal_depth = depth_frame[int(goal[1] + padding_y), int(goal[0] + padding_x)] if not np.isnan(goal).any() else None\n",
    "            \n",
    "            origin_z.append(origin_depth)\n",
    "            goal_z.append(goal_depth)\n",
    "\n",
    "    df['origin_z'] = origin_z\n",
    "    df['goal_z'] = goal_z\n",
    "\n",
    "    df.to_csv(output_csv_file_path, index=False)\n",
    "    plt.clf()"
   ],
   "outputs": [],
   "execution_count": 2
  },
  {
   "cell_type": "code",
   "id": "ea9581862e538176",
   "metadata": {
    "collapsed": false,
    "jupyter": {
     "outputs_hidden": false
    },
    "ExecuteTime": {
     "end_time": "2024-08-28T20:29:43.828592Z",
     "start_time": "2024-08-28T20:29:38.827Z"
    }
   },
   "source": [
    "base_folder = r'.\\NaoPickAndPlaceData'\n",
    "for folder in os.listdir(base_folder):\n",
    "    folder_path = os.path.join(base_folder, folder)\n",
    "    if os.path.isdir(folder_path) and 'processed_step_3.csv' in os.listdir(folder_path) and 'processed_step_4.csv' not in os.listdir(folder_path):\n",
    "        process_csv(folder_path)"
   ],
   "outputs": [
    {
     "data": {
      "text/plain": [
       "<Figure size 640x480 with 0 Axes>"
      ]
     },
     "metadata": {},
     "output_type": "display_data"
    }
   ],
   "execution_count": 3
  },
  {
   "cell_type": "code",
   "execution_count": null,
   "id": "75c3d62b40514dec",
   "metadata": {
    "ExecuteTime": {
     "end_time": "2024-06-22T06:06:31.153027Z",
     "start_time": "2024-06-22T06:06:31.150905Z"
    },
    "collapsed": false,
    "jupyter": {
     "outputs_hidden": false
    }
   },
   "outputs": [],
   "source": []
  },
  {
   "cell_type": "code",
   "execution_count": null,
   "id": "cddfca9eac95995a",
   "metadata": {},
   "outputs": [],
   "source": []
  }
 ],
 "metadata": {
  "kernelspec": {
   "display_name": "Python 3 (ipykernel)",
   "language": "python",
   "name": "python3"
  },
  "language_info": {
   "codemirror_mode": {
    "name": "ipython",
    "version": 3
   },
   "file_extension": ".py",
   "mimetype": "text/x-python",
   "name": "python",
   "nbconvert_exporter": "python",
   "pygments_lexer": "ipython3",
   "version": "3.11.8"
  }
 },
 "nbformat": 4,
 "nbformat_minor": 5
}
