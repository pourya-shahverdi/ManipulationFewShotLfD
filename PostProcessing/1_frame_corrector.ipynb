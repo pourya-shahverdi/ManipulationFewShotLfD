{
 "cells": [
  {
   "cell_type": "code",
   "metadata": {
    "ExecuteTime": {
     "end_time": "2024-08-28T20:18:30.115972Z",
     "start_time": "2024-08-28T20:18:29.731133Z"
    }
   },
   "source": [
    "import os\n",
    "import cv2\n",
    "import shutil\n",
    "import numpy as np\n",
    "import pandas as pd"
   ],
   "outputs": [],
   "execution_count": 1
  },
  {
   "cell_type": "code",
   "metadata": {
    "ExecuteTime": {
     "end_time": "2024-08-28T20:18:30.122276Z",
     "start_time": "2024-08-28T20:18:30.116973Z"
    }
   },
   "source": [
    "def calculate_angle_difference(current_angles, last_saved_angles):\n",
    "    return sum(abs(current_angles - last_saved_angles))\n",
    "\n",
    "def process_image_folder(folder_path, threshold):\n",
    "    csv_file_path = os.path.join(folder_path, 'data.csv')\n",
    "    output_folder = os.path.join(folder_path, 'processed_video')\n",
    "    depth_output_folder = os.path.join(folder_path, 'processed_depth')\n",
    "\n",
    "    if not os.path.exists(output_folder):\n",
    "        os.makedirs(output_folder)\n",
    "    else:\n",
    "        shutil.rmtree(output_folder)\n",
    "        os.makedirs(output_folder)\n",
    "        \n",
    "    if not os.path.exists(depth_output_folder):\n",
    "        os.makedirs(depth_output_folder)\n",
    "    else:\n",
    "        shutil.rmtree(depth_output_folder)\n",
    "        os.makedirs(depth_output_folder)\n",
    "    #     return\n",
    "    print(output_folder)\n",
    "\n",
    "    # Read CSV\n",
    "    df = pd.read_csv(csv_file_path, header=0)\n",
    "    # last_saved_angles = np.array(df[[\"RightWristX\", \"RightWristY\"]].iloc[0, :])\n",
    "    columns = [\"LeftShoulderX\", \"LeftShoulderY\", \"LeftElbowX\", \"LeftElbowY\", \"LeftWristX\", \"LeftWristY\"]\n",
    "    last_saved_angles = np.array(df[columns].iloc[0, :])\n",
    "    frame_count = 1\n",
    "    updated_rows = []\n",
    "\n",
    "    for i in range(len(df)):\n",
    "        image_path = os.path.join(folder_path, 'color', f'color_data_{i + 1}.bin')\n",
    "        if not os.path.exists(image_path):\n",
    "            break\n",
    "\n",
    "        with open(image_path, 'rb') as f:\n",
    "            color_data = f.read()\n",
    "            color_array = np.frombuffer(color_data, dtype=np.uint8)\n",
    "            frame = color_array.reshape((-1, 4))\n",
    "            width = 640\n",
    "            height = 480\n",
    "            frame = frame.reshape((height, width, 4))\n",
    "        # current_angles = np.array(df[[\"RightWristX\", \"RightWristY\"]].iloc[i, :])\n",
    "        current_angles = np.array(df[columns].iloc[i, :])\n",
    "        # current_angles = np.array(df[[\"RightElbowYaw\",\"RightElbowRoll\", \"RightShoulderRoll\", \"RightShoulderPitch\"]].iloc[i, :])\n",
    "\n",
    "        if i == 0 or calculate_angle_difference(current_angles, last_saved_angles) > threshold:\n",
    "            depth_path = os.path.join(folder_path, 'depth', f'depth_data_{i + 1}.bin')\n",
    "            cv2.imwrite(f'{output_folder}/frame_{frame_count}.jpg', frame)\n",
    "            shutil.copy(depth_path, os.path.join(depth_output_folder, f'depth_data_{frame_count}.bin'))\n",
    "            last_saved_angles = current_angles\n",
    "            updated_row = df.iloc[i].copy()\n",
    "            updated_row['FrameNumber'] = frame_count\n",
    "            updated_rows.append(updated_row)\n",
    "            frame_count += 1\n",
    "\n",
    "    # Save the updated CSV\n",
    "    updated_df = pd.DataFrame(updated_rows)\n",
    "    updated_df.to_csv(os.path.join(folder_path, 'processed_step_1.csv'), index=False)"
   ],
   "outputs": [],
   "execution_count": 2
  },
  {
   "cell_type": "code",
   "metadata": {
    "ExecuteTime": {
     "end_time": "2024-08-28T20:19:05.982757Z",
     "start_time": "2024-08-28T20:18:31.781639Z"
    }
   },
   "source": [
    "# Parameters\n",
    "threshold = 0.000005\n",
    "base_folder = r'.\\NaoPickAndPlaceData'\n",
    "\n",
    "# List all directories in the base folder\n",
    "for folder in os.listdir(base_folder):\n",
    "    folder_path = os.path.join(base_folder, folder)\n",
    "    if os.path.isdir(folder_path) and 'data.csv' in os.listdir(folder_path):\n",
    "        process_image_folder(folder_path, threshold)"
   ],
   "outputs": [
    {
     "name": "stdout",
     "output_type": "stream",
     "text": [
      "C:\\Users\\ARB\\PycharmProjects\\Nao\\NaoPickAndPlaceData\\2024-08-09_16-54-15\\processed_video\n",
      "C:\\Users\\ARB\\PycharmProjects\\Nao\\NaoPickAndPlaceData\\2024-08-09_16-54-59\\processed_video\n",
      "C:\\Users\\ARB\\PycharmProjects\\Nao\\NaoPickAndPlaceData\\2024-08-09_16-55-33\\processed_video\n",
      "C:\\Users\\ARB\\PycharmProjects\\Nao\\NaoPickAndPlaceData\\2024-08-09_16-56-28\\processed_video\n",
      "C:\\Users\\ARB\\PycharmProjects\\Nao\\NaoPickAndPlaceData\\2024-08-09_16-57-47\\processed_video\n",
      "C:\\Users\\ARB\\PycharmProjects\\Nao\\NaoPickAndPlaceData\\2024-08-09_16-58-21\\processed_video\n",
      "C:\\Users\\ARB\\PycharmProjects\\Nao\\NaoPickAndPlaceData\\2024-08-09_16-59-16\\processed_video\n",
      "C:\\Users\\ARB\\PycharmProjects\\Nao\\NaoPickAndPlaceData\\2024-08-09_17-00-02\\processed_video\n",
      "C:\\Users\\ARB\\PycharmProjects\\Nao\\NaoPickAndPlaceData\\2024-08-09_18-32-01\\processed_video\n",
      "C:\\Users\\ARB\\PycharmProjects\\Nao\\NaoPickAndPlaceData\\2024-08-09_18-33-03\\processed_video\n",
      "C:\\Users\\ARB\\PycharmProjects\\Nao\\NaoPickAndPlaceData\\2024-08-09_18-33-49\\processed_video\n",
      "C:\\Users\\ARB\\PycharmProjects\\Nao\\NaoPickAndPlaceData\\2024-08-09_18-34-28\\processed_video\n",
      "C:\\Users\\ARB\\PycharmProjects\\Nao\\NaoPickAndPlaceData\\2024-08-09_18-35-15\\processed_video\n",
      "C:\\Users\\ARB\\PycharmProjects\\Nao\\NaoPickAndPlaceData\\2024-08-09_18-35-50\\processed_video\n",
      "C:\\Users\\ARB\\PycharmProjects\\Nao\\NaoPickAndPlaceData\\2024-08-09_18-36-26\\processed_video\n",
      "C:\\Users\\ARB\\PycharmProjects\\Nao\\NaoPickAndPlaceData\\2024-08-09_18-37-10\\processed_video\n"
     ]
    }
   ],
   "execution_count": 3
  },
  {
   "cell_type": "code",
   "execution_count": 13,
   "metadata": {
    "ExecuteTime": {
     "end_time": "2024-07-09T09:53:38.566490Z",
     "start_time": "2024-07-09T09:53:38.562860Z"
    }
   },
   "outputs": [],
   "source": []
  },
  {
   "cell_type": "code",
   "execution_count": null,
   "metadata": {
    "collapsed": false
   },
   "outputs": [],
   "source": []
  }
 ],
 "metadata": {
  "kernelspec": {
   "display_name": "Python 3",
   "language": "python",
   "name": "python3"
  },
  "language_info": {
   "codemirror_mode": {
    "name": "ipython",
    "version": 3
   },
   "file_extension": ".py",
   "mimetype": "text/x-python",
   "name": "python",
   "nbconvert_exporter": "python",
   "pygments_lexer": "ipython3",
   "version": "3.12.2"
  }
 },
 "nbformat": 4,
 "nbformat_minor": 2
}
