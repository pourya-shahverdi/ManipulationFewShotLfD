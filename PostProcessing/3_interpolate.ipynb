{
 "cells": [
  {
   "cell_type": "code",
   "id": "initial_id",
   "metadata": {
    "collapsed": true,
    "ExecuteTime": {
     "end_time": "2024-08-28T20:29:34.454834Z",
     "start_time": "2024-08-28T20:29:34.446359Z"
    }
   },
   "source": [
    "import os\n",
    "import pandas as pd"
   ],
   "outputs": [],
   "execution_count": 5
  },
  {
   "cell_type": "code",
   "id": "6a9c79a31e5bd89b",
   "metadata": {
    "collapsed": false,
    "ExecuteTime": {
     "end_time": "2024-08-28T20:29:34.640720Z",
     "start_time": "2024-08-28T20:29:34.635722Z"
    }
   },
   "source": [
    "def interpolate_missing_values(df):\n",
    "    df.interpolate(method='linear', limit_direction='forward', axis=0, inplace=True)\n",
    "    df.interpolate(method='linear', limit_direction='backward', axis=0, inplace=True)\n",
    "    return df\n",
    "\n",
    "def process_csv(folder_path):\n",
    "    input_csv_file_path = os.path.join(folder_path, 'processed_step_2.csv')\n",
    "    output_csv_file_path = os.path.join(folder_path, 'processed_step_3.csv')\n",
    "\n",
    "    df = pd.read_csv(input_csv_file_path)\n",
    "\n",
    "    last_valid_origin = df[['origin_x', 'origin_y']].last_valid_index()\n",
    "    last_valid_goal = df[['goal_x', 'goal_y']].last_valid_index()\n",
    "\n",
    "    df.loc[:last_valid_origin, ['origin_x', 'origin_y']] = interpolate_missing_values(df.loc[:last_valid_origin, ['origin_x', 'origin_y']])\n",
    "    df.loc[:last_valid_goal, ['goal_x', 'goal_y']] = interpolate_missing_values(df.loc[:last_valid_goal, ['goal_x', 'goal_y']])\n",
    "\n",
    "    df.to_csv(output_csv_file_path, index=False)"
   ],
   "outputs": [],
   "execution_count": 6
  },
  {
   "cell_type": "code",
   "id": "ea9581862e538176",
   "metadata": {
    "collapsed": false,
    "ExecuteTime": {
     "end_time": "2024-08-28T20:29:34.994914Z",
     "start_time": "2024-08-28T20:29:34.828046Z"
    }
   },
   "source": [
    "base_folder = r'.\\NaoPickAndPlaceData'\n",
    "\n",
    "for folder in os.listdir(base_folder):\n",
    "    folder_path = os.path.join(base_folder, folder)\n",
    "    if os.path.isdir(folder_path) and 'processed_step_2.csv' in os.listdir(folder_path):\n",
    "        process_csv(folder_path)\n"
   ],
   "outputs": [],
   "execution_count": 7
  },
  {
   "cell_type": "code",
   "execution_count": null,
   "id": "01b0d840",
   "metadata": {},
   "outputs": [],
   "source": []
  }
 ],
 "metadata": {
  "kernelspec": {
   "display_name": "Python 3",
   "language": "python",
   "name": "python3"
  },
  "language_info": {
   "codemirror_mode": {
    "name": "ipython",
    "version": 3
   },
   "file_extension": ".py",
   "mimetype": "text/x-python",
   "name": "python",
   "nbconvert_exporter": "python",
   "pygments_lexer": "ipython3",
   "version": "3.12.2"
  }
 },
 "nbformat": 4,
 "nbformat_minor": 5
}
