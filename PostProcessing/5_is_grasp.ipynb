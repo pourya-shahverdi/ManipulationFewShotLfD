{
 "cells": [
  {
   "cell_type": "code",
   "id": "initial_id",
   "metadata": {
    "collapsed": true,
    "ExecuteTime": {
     "end_time": "2024-08-28T20:29:50.070012Z",
     "start_time": "2024-08-28T20:29:50.067545Z"
    }
   },
   "source": [
    "import os\n",
    "import pandas as pd"
   ],
   "outputs": [],
   "execution_count": 5
  },
  {
   "cell_type": "code",
   "id": "d402875b67d961d6",
   "metadata": {
    "ExecuteTime": {
     "end_time": "2024-08-28T20:29:50.314352Z",
     "start_time": "2024-08-28T20:29:50.310854Z"
    }
   },
   "source": [
    "def process_csv(folder_path):\n",
    "    input_csv_file_path = os.path.join(folder_path, 'processed_step_4.csv') \n",
    "    output_csv_file_path = os.path.join(folder_path, 'processed_step_5.csv')\n",
    "\n",
    "    df = pd.read_csv(input_csv_file_path)\n",
    "\n",
    "    df['is_grasped'] = -1\n",
    "\n",
    "    from_frame = 50\n",
    "    baseline_x = df['origin_x'][:from_frame].mean()\n",
    "    baseline_y = df['origin_y'][:from_frame].mean()\n",
    "\n",
    "    threshold = 3\n",
    "\n",
    "    for i in range(from_frame, len(df)):\n",
    "        if abs(df.loc[i, 'origin_x'] - baseline_x) > threshold or abs(df.loc[i, 'origin_y'] - baseline_y) > threshold:\n",
    "            df.loc[i, 'is_grasped'] = 1\n",
    "\n",
    "    \n",
    "    df.to_csv(output_csv_file_path, index=False)"
   ],
   "outputs": [],
   "execution_count": 6
  },
  {
   "cell_type": "code",
   "id": "29338c0ecc82e669",
   "metadata": {
    "ExecuteTime": {
     "end_time": "2024-08-28T20:29:51.285739Z",
     "start_time": "2024-08-28T20:29:50.842262Z"
    }
   },
   "source": [
    "base_folder = r'.\\NaoPickAndPlaceData'\n",
    "for folder in os.listdir(base_folder):\n",
    "    folder_path = os.path.join(base_folder, folder)\n",
    "    if os.path.isdir(folder_path) and 'processed_step_4.csv' in os.listdir(folder_path):\n",
    "        process_csv(folder_path)"
   ],
   "outputs": [],
   "execution_count": 7
  },
  {
   "cell_type": "code",
   "execution_count": 36,
   "id": "11eb48d03db1fefb",
   "metadata": {
    "ExecuteTime": {
     "end_time": "2024-06-10T13:49:07.616528Z",
     "start_time": "2024-06-10T13:49:07.610918Z"
    }
   },
   "outputs": [],
   "source": []
  }
 ],
 "metadata": {
  "kernelspec": {
   "display_name": "Python 3",
   "language": "python",
   "name": "python3"
  },
  "language_info": {
   "codemirror_mode": {
    "name": "ipython",
    "version": 3
   },
   "file_extension": ".py",
   "mimetype": "text/x-python",
   "name": "python",
   "nbconvert_exporter": "python",
   "pygments_lexer": "ipython3",
   "version": "3.12.2"
  }
 },
 "nbformat": 4,
 "nbformat_minor": 5
}
